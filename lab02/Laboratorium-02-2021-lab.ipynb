{
 "cells": [
  {
   "cell_type": "markdown",
   "metadata": {},
   "source": [
    "# Kryptografia z kluczem tajnym (symetryczna): szyfry strumieniowe\n",
    "### Literatura:\n",
    "1. Nowoczesna kryptografia, Aumasson\n",
    "2. Kryptografia dla praktyków, Schneier"
   ]
  },
  {
   "cell_type": "markdown",
   "metadata": {},
   "source": [
    "#### Funkcje pomocnicze\n",
    "Zadaniem poniższego zestawu funkcji jest zamiana wiadomości tekstowej (poprzez kody ASCII) do (tekstowego) ciągu 0 i 1. Chcemy analizować funkcje tak jak są one opisane w książkach. "
   ]
  },
  {
   "cell_type": "code",
   "execution_count": 2,
   "metadata": {},
   "outputs": [
    {
     "name": "stdout",
     "output_type": "stream",
     "text": [
      "0101010001100\n",
      "0101010001101\n",
      "0000000000001\n",
      "1010101110010\n",
      "Liczba 200 w zapisie binarnym na 8 bitach: 11001000\n",
      "Liczba 200 w zapisie binarnym na 16 bitach: 0000000011001000\n",
      "Tekst w formie kodów ASCII:  [84, 104, 101, 32, 113, 117, 105, 99, 107, 32, 98, 114, 111, 119, 110, 32, 102, 111, 120, 32, 106, 117, 109, 112, 115, 32, 111, 118, 101, 114, 32, 116, 104, 101, 32, 108, 97, 122, 121, 32, 100, 111, 103]\n",
      "Tekst w postaci ciągu 0 i 1: 01010100011010000110010100100000011100010111010101101001011000110110101100100000011000100111001001101111011101110110111000100000011001100110111101111000001000000110101001110101011011010111000001110011001000000110111101110110011001010111001000100000011101000110100001100101001000000110110001100001011110100111100100100000011001000110111101100111\n",
      "\n"
     ]
    }
   ],
   "source": [
    "# Funkcje pomocnicze \n",
    "from textwrap import wrap\n",
    "import math \n",
    "from codecs import encode\n",
    "\n",
    "#tablica znaków w tablicę kodów int\n",
    "def intoIntArray(message: str):\n",
    "    int_array = []\n",
    "    mesg_array = list(message) \n",
    "    for i in mesg_array:\n",
    "        int_array.append(ord(i))\n",
    "    return int_array\n",
    "\n",
    "#tablica kodów int w tablice znaków \n",
    "def intoCharArray(message: []):\n",
    "    mesg_char = []\n",
    "    for i in message:\n",
    "        mesg_char.append(chr(i))\n",
    "    return mesg_char\n",
    "\n",
    "# jak wyświetlić dane w postaci binarnej \n",
    "get_bin = lambda x, n: format(x, 'b').zfill(n)\n",
    "\n",
    "def printBinary(data: []):\n",
    "    for i in data:\n",
    "        print(get_bin(i,8), end=' ')\n",
    "\n",
    "def intListToBinStr(message_list):\n",
    "    binary = []\n",
    "    for x in message_list: \n",
    "        binary.append(get_bin(x, 8))\n",
    "    binary_str = \"\"\n",
    "    for x in binary:\n",
    "        binary_str+=x \n",
    "    return binary_str\n",
    "\n",
    "def XOR(bits1,bits2):\n",
    "    \"\"\"perform a XOR operation and return the output\"\"\"\n",
    "    xor_result = \"\"\n",
    "    for index in range(len(bits1)):\n",
    "        if bits1[index] == bits2[index]: \n",
    "            xor_result += '0'\n",
    "        else:\n",
    "            xor_result += '1'\n",
    "    return xor_result  \n",
    "\n",
    "def AND(bits1,bits2):\n",
    "    \"\"\"perform a AND operation and return the output\"\"\"\n",
    "    and_result = \"\"\n",
    "    for index in range(len(bits1)):\n",
    "        if (bits1[index] == '1') and  (bits2[index] == '1'): \n",
    "            and_result += '1'\n",
    "        else:\n",
    "            and_result += '0'\n",
    "    return and_result  \n",
    "\n",
    "def OR(bits1,bits2):\n",
    "    \"\"\"perform a OR operation and return the output\"\"\"\n",
    "    or_result = \"\"\n",
    "    for index in range(len(bits1)):\n",
    "        if (bits1[index] == '0') and  (bits2[index] == '0'): \n",
    "            or_result += '0'\n",
    "        else:\n",
    "            or_result += '1'\n",
    "    return or_result  \n",
    "\n",
    "def NEG(bits):\n",
    "    \"\"\"perform a NEG operation and return the output\"\"\"\n",
    "    neg_result = \"\"\n",
    "    for index in range(len(bits)):\n",
    "        if (bits[index] == '0'): \n",
    "            neg_result += '1'\n",
    "        else:\n",
    "            neg_result += '0'\n",
    "    return neg_result  \n",
    "\n",
    "print(AND('0101010001101', '0101010001100'))    \n",
    "print(OR('0101010001101', '0101010001100')) \n",
    "print(XOR('0101010001101', '0101010001100')) \n",
    "print(NEG('0101010001101')) \n",
    "\n",
    "\n",
    "l = 200\n",
    "bl = get_bin(l,8)\n",
    "print(\"Liczba 200 w zapisie binarnym na 8 bitach:\", bl)\n",
    "bl = get_bin(l,16)\n",
    "print(\"Liczba 200 w zapisie binarnym na 16 bitach:\", bl)\n",
    "\n",
    "message = 'The quick brown fox jumps over the lazy dog'\n",
    "listint = intoIntArray(message)\n",
    "print(\"Tekst w formie kodów ASCII: \",listint)\n",
    "binary_message = intListToBinStr(listint) \n",
    "print(\"Tekst w postaci ciągu 0 i 1:\", binary_message)\n",
    "print()"
   ]
  },
  {
   "cell_type": "code",
   "execution_count": 3,
   "metadata": {},
   "outputs": [
    {
     "name": "stdout",
     "output_type": "stream",
     "text": [
      "Tekst jawny (liczbowo): [84, 104, 101, 32, 113, 117, 105, 99, 107, 32, 98, 114, 111, 119, 110, 32, 102, 111, 120, 32, 106, 117, 109, 112, 115, 32, 111, 118, 101, 114, 32, 116, 104, 101, 32, 108, 97, 122, 121, 32, 100, 111, 103]\n",
      "Tekst jawny (napisowo): The quick brown fox jumps over the lazy dog\n",
      "Tekst jawny (binarnie, bajtowo): 01010100 01101000 01100101 00100000 01110001 01110101 01101001 01100011 01101011 00100000 01100010 01110010 01101111 01110111 01101110 00100000 01100110 01101111 01111000 00100000 01101010 01110101 01101101 01110000 01110011 00100000 01101111 01110110 01100101 01110010 00100000 01110100 01101000 01100101 00100000 01101100 01100001 01111010 01111001 00100000 01100100 01101111 01100111 \n",
      "Losowe bajty: [221, 143, 230, 71, 238, 233, 124, 214]\n",
      "Losowe bajty (bitowo):11011101 10001111 11100110 01000111 11101110 11101001 01111100 11010110 \n",
      "Pojedyncze losowe bajty:01100011 01111010 "
     ]
    }
   ],
   "source": [
    "# funkcje i algorytmy pomocnicze \n",
    "import random\n",
    "random.seed(\"key\")  #generator PRNG w python można inicjalizować tekstem\n",
    "\n",
    "# jak wygenerować 8 losowych bitów (razy n)\n",
    "def randomBytes(n):\n",
    "    return bytes(random.getrandbits(8) for i in range(n))\n",
    "\n",
    "\n",
    "plaintext = intoIntArray(message)\n",
    "print(\"Tekst jawny (liczbowo):\", plaintext) \n",
    "\n",
    "#tablica znaków w napis \n",
    "plaintext_str = intoCharArray(plaintext)\n",
    "print(\"Tekst jawny (napisowo):\", ''.join(plaintext_str))\n",
    "\n",
    "# jak wyświetlić dane w postaci binarnej \n",
    "get_bin = lambda x, n: format(x, 'b').zfill(n)\n",
    "def printBinary(data: []):\n",
    "    for i in data:\n",
    "        print(get_bin(i,8), end=' ')   \n",
    "\n",
    "print(\"Tekst jawny (binarnie, bajtowo): \", end=\"\")\n",
    "printBinary(plaintext)\n",
    "print()\n",
    "        \n",
    "random_stream = []\n",
    "for i in range(8):\n",
    "    random_stream.append(int.from_bytes(randomBytes(1), byteorder='big'))\n",
    "\n",
    "print(\"Losowe bajty:\", random_stream)\n",
    "print(\"Losowe bajty (bitowo):\", end=\"\")\n",
    "printBinary(random_stream)\n",
    "\n",
    "print()\n",
    "\n",
    "print(\"Pojedyncze losowe bajty:\", end=\"\")\n",
    "bits1 = printBinary(randomBytes(1))\n",
    "bits2 = printBinary(randomBytes(1))\n"
   ]
  },
  {
   "cell_type": "markdown",
   "metadata": {},
   "source": [
    "### Problem \n",
    "Zaimplementuj szyfr, który utajnia strumień wiadomości jawnej przez łączenie go z pseudolosowym strumieniem "
   ]
  },
  {
   "cell_type": "code",
   "execution_count": 46,
   "metadata": {
    "scrolled": false
   },
   "outputs": [
    {
     "name": "stdout",
     "output_type": "stream",
     "text": [
      "Writing 's' (str) to file 'plaintext2.txt'.\n",
      "1000110001001111011111110010000011001000\n"
     ]
    }
   ],
   "source": [
    "s='''Lorem ipsum dolor sit amet, consectetur adipiscing elit. Nunc eget augue eget sem sodales ultrices. Quisque dapibus, urna sit amet.'''\n",
    "%store s >plaintext2.txt\n",
    "\n",
    "h = open(\"plaintext2.txt\", \"r\")\n",
    "\n",
    "random.seed(\"key\")\n",
    "\n",
    "short_text = 'abaca'\n",
    "\n",
    "ciphertext = [] \n",
    "# tu wpisz swoj kod\n",
    "# strumien klucza to wyjscie z generatora liczb pseudolosowych (getrandbits)\n",
    "# mamy uzyc operacji na bitach \n",
    "def encode_stream(plaintext_stream):\n",
    "    for i, bit in enumerate(plaintext_stream):\n",
    "        rand_bit = random.getrandbits(1)\n",
    "        ciphertext.append(XOR(bit, str(rand_bit)))\n",
    "\n",
    "encode_stream(intListToBinStr(intoIntArray(short_text)))\n",
    "        \n",
    "print(\"\".join(ciphertext))"
   ]
  },
  {
   "cell_type": "markdown",
   "metadata": {},
   "source": [
    "### Linear congruential generators (LCG)\n",
    "Generatory liniowe kongruentne sa najprostszymi generatorami dającymi ciągi liczb o dobrych własnościach statystycznych. Kolejne wyrazy ciągu generowane sa przy pomocy formuły:\n",
    "\n",
    "$z_i+1=(a\\cdot z_i+c)\\bmod m$\n",
    "\n",
    "Wyraz $z_0$ nazywany jest ziarnem (_seed_). Użycie tego samego ziarna gwarantuje nam wyprodukowanie tej samej sekwencji liczb.\n",
    "\n",
    "Charakterystyczną cechą GLK jest ich okresowość. Oczekujemy możliwie najdłuższego okresu (maksymalny to $m-1$). Najdłuższy okres otrzymamy gdy spełnione są pewne warunki (twierdzenie Hull'a-Dobell'a):\n",
    "\n",
    "- $c$ i $m$ są względnie pierwsze, \n",
    "- $a-1$ jest podzielne przez wszystkiem pierwsze czynniki $m$,\n",
    "- $a-1$ jest wielokrotnoścą 4 jeśli $m$ jest wielokrotnością 4.\n",
    "\n",
    "Przykładowe dobre wartości to $a=1103515245$, $c=12345$ dla $m=2^{31}$ \n",
    "\n",
    "The LCG is typically coded to return z/m, a floating point number in (0, 1). This can be scaled to any other range (a,b).\n",
    "Zazwyczaj generator zwraca wartość $\\frac{z_i}{m}$, ale wyjście można przeskalować do dowolnej innej wartości. \n",
    "\n",
    "Obecnie większość PRNG to tzw. _Mersenne twister_, ale ogólna idea ich użytkowania i własności jest taka sama jak w przypadku generatorów kongruentnych. "
   ]
  },
  {
   "cell_type": "code",
   "execution_count": 59,
   "metadata": {},
   "outputs": [
    {
     "name": "stdout",
     "output_type": "stream",
     "text": [
      "[166, 97, 88, 33, 91, 184, 211, 119, 189, 205, 46, 8, 82, 18, 98, 253, 139, 27, 203, 49, 203, 44, 215, 76, 5, 204, 67, 84, 70, 232, 23, 190, 31, 114, 226, 213, 33, 239, 96, 162, 104, 13, 14, 12, 112, 126, 219, 108, 23, 86, 124, 87, 47, 36, 130, 187, 97, 233, 206, 39, 210, 88, 112, 86, 72, 72, 144, 215, 63, 238, 132, 236, 182, 191, 142, 108, 23, 115, 119, 207, 4, 53, 145, 53, 114, 93, 60, 125, 219, 199, 126, 74, 236, 39, 212, 15, 121, 91, 202, 235]\n"
     ]
    }
   ],
   "source": [
    "# zadanie dla chetnych: \n",
    "# zbadac rozklad wystepowania wartosci dla generatora w zakresie [0, 255]\n",
    "# zbadac czy rozklad jest jednostajny\n",
    "\n",
    "def lcg(x, a, c, m):\n",
    "    while True:\n",
    "        x = (a * x + c) % m\n",
    "        yield x\n",
    "        \n",
    "def random_uniform_sample(n, interval, seed=0):\n",
    "    a, c, m = 1103515245, 12345, 2 ** 31\n",
    "    bsdrand = lcg(seed, a, c, m)\n",
    "\n",
    "    lower, upper = interval[0], interval[1]\n",
    "    sample = []\n",
    "\n",
    "    for i in range(n):\n",
    "        observation = (upper - lower) * (next(bsdrand) / (2 ** 31 - 1)) + lower\n",
    "        sample.append(round(observation))\n",
    "\n",
    "    return sample\n",
    "\n",
    "print(random_uniform_sample(100, [0,255],11))"
   ]
  },
  {
   "cell_type": "markdown",
   "metadata": {},
   "source": [
    "###  Algorytm Blum Blum Shub\n",
    "Algorytm Blum Blum Shub został poraz pierwszy opisany w pracy \"A Simple Unpredictable Pseudo-Random Number Generator, „SIAM Journal on Computing” przez małżeństwo Leonore i Manuela Blum oraz Michaela Shub w maju 1986 roku. Algorytm wywodzi się z funkcji jednokierunkowej opracowanej przez Michaela Rabina. \n",
    "Blum Blum Shub jest generatorem liczb pseudolosowych, jednakże ze względu na swoje działanie ma spore zastosowanie w kryptografii. Jego bezpieczeństwo będzie wątpliwe, kiedy powstanie szybki i skuteczny algorytm do faktoryzacji liczb. Wynika to z samej postaci generatora:\n",
    "$x_{n+1} = x_n^2 \\bmod M$\n",
    "\n",
    "Gdzie $M = pq$, które są iloczynami dwóch dużych liczb pierwszych, które przystają do $3 \\bmod 4$ ($p=q=3(\\bmod4)$, czyli liczby $p$ i $q$ przy dzieleniu przez $4$ dają resztę $3$), a $x_0$ to losowe ziarno.\n",
    "\n",
    "Przykładowe wygenerowanie w Pythonie na małych liczbach:\n",
    "$p = 7, q = 11$  ($7/4 = 1$ reszty 3, $11/4 = 2$ reszty 3)\n",
    "seed = 5"
   ]
  },
  {
   "cell_type": "code",
   "execution_count": 53,
   "metadata": {},
   "outputs": [
    {
     "name": "stdout",
     "output_type": "stream",
     "text": [
      "25 9 4 16\n"
     ]
    }
   ],
   "source": [
    "p=7\n",
    "q=11\n",
    "M=p*q\n",
    "x0=5\n",
    "x1=(x0**2)%M\n",
    "x2=(x1**2)%M\n",
    "x3=(x2**2)%M\n",
    "x4=(x3**2)%M\n",
    "print(x1,x2,x3,x4)"
   ]
  },
  {
   "cell_type": "code",
   "execution_count": 54,
   "metadata": {},
   "outputs": [
    {
     "ename": "ModuleNotFoundError",
     "evalue": "No module named 'sympy'",
     "output_type": "error",
     "traceback": [
      "\u001b[0;31m---------------------------------------------------------------------------\u001b[0m",
      "\u001b[0;31mModuleNotFoundError\u001b[0m                       Traceback (most recent call last)",
      "\u001b[0;32m/var/folders/r1/70g6zf857sq13fncvcks_1800000gn/T/ipykernel_17411/1070849163.py\u001b[0m in \u001b[0;36m<module>\u001b[0;34m\u001b[0m\n\u001b[0;32m----> 1\u001b[0;31m \u001b[0;32mimport\u001b[0m \u001b[0msympy\u001b[0m\u001b[0;34m\u001b[0m\u001b[0;34m\u001b[0m\u001b[0m\n\u001b[0m\u001b[1;32m      2\u001b[0m \u001b[0;32mimport\u001b[0m \u001b[0mrandom\u001b[0m\u001b[0;34m\u001b[0m\u001b[0;34m\u001b[0m\u001b[0m\n\u001b[1;32m      3\u001b[0m \u001b[0;32mimport\u001b[0m \u001b[0msys\u001b[0m\u001b[0;34m\u001b[0m\u001b[0;34m\u001b[0m\u001b[0m\n\u001b[1;32m      4\u001b[0m \u001b[0;34m\u001b[0m\u001b[0m\n\u001b[1;32m      5\u001b[0m \u001b[0;34m\u001b[0m\u001b[0m\n",
      "\u001b[0;31mModuleNotFoundError\u001b[0m: No module named 'sympy'"
     ]
    }
   ],
   "source": [
    "import sympy\n",
    "import random\n",
    "import sys\n",
    "\n",
    "\n",
    "x = 3*10**10 #Mamy liczbę x = 30000000000\n",
    "y = 4*10**10 #Mamy liczbę x = 40000000000\n",
    "seed = random.randint(1,1e10) #Generujemy losową liczbę całkowitą między 1 a 10 000 000 000\n",
    "\n",
    "\n",
    "def lcm(a, b): #Funkcja licząca najmniejszą wspólną wielokrotność liczb a i b\n",
    "    return a * b / gcd(a, b)\n",
    "\n",
    "def gcd(a,b): #Funkcja licząca największy wspólny dzielnik liczb a i b\n",
    "    while b > 0:\n",
    "        a, b = b, a % b\n",
    "    return a\n",
    "\n",
    "def next_usable_prime(x): #Funkcja wyznaczająca nasze \"duże liczby pierwsze\"\n",
    "        p = sympy.nextprime(x) #Nasza liczba p będzie następną liczbą pierwszą po x\n",
    "        while (p % 4 != 3): #Szukamy takiej liczby p, która dzielona przez 4 daje resztę 3 (pętla szuka kolejnych liczb pierwszych aż znajdzie taką, która przystaje do 3mod4)\n",
    "            p = sympy.nextprime(p)\n",
    "        return p\n",
    "\n",
    "p = next_usable_prime(x) #Wywołujemy opisaną wyżej funkcję dla x\n",
    "q = next_usable_prime(y) #Wywołujemy opisaną wyżej funkcję dla y\n",
    "M = p*q\n",
    "\n",
    "N = 1000 \n",
    "\n",
    "print(\"\\np:\\t\",p)\n",
    "print(\"q:\\t\",q)\n",
    "\n",
    "print(\"M:\\t\",M)\n",
    "print(\"Seed:\\t\",seed)\n",
    "\n",
    "x = seed\n",
    "\n",
    "bit_output = \"\"\n",
    "for _ in range(N): #Pętla przechodząca przez elementy od 0 do 1000\n",
    "    x = x*x % M #Główna postać algorytmu (xn+1=xn^2(mod M))\n",
    "    b = x % 2 #Obliczenie reszty z dzielenia przez 2 otrzymanej liczby (0 lub 1)\n",
    "    bit_output += str(b)\n",
    "print(bit_output) #Wypisanie wyniku\n",
    "\n",
    "print(\"\\nNumber of zeros:\\t\",bit_output.count(\"0\"))\n",
    "\n",
    "print(\"Number of ones:\\t\\t\",bit_output.count(\"1\"))"
   ]
  },
  {
   "cell_type": "markdown",
   "metadata": {},
   "source": [
    "### Kryptograficzne generatory PRNG\n",
    "Urządzenie /dev/urandom stanowi podstawę dobrego generatora CPRNG"
   ]
  },
  {
   "cell_type": "code",
   "execution_count": 58,
   "metadata": {},
   "outputs": [
    {
     "name": "stdout",
     "output_type": "stream",
     "text": [
      "(649046576,)\n",
      "(794893402,)\n",
      "82\n",
      "(-16307,)\n",
      "(16945,)\n",
      "(9.417903480541529e-24,)\n",
      "(-1.654790967237354e-232,)\n",
      "(b'\\xdf',)\n"
     ]
    }
   ],
   "source": [
    "import os\n",
    "import struct\n",
    "\n",
    "# random integer using os.urandom()\n",
    "print(struct.unpack('i', os.urandom(4)))\n",
    "# Output (258871565,)\n",
    "\n",
    "# unsigned random integer using os.urandom()\n",
    "print(struct.unpack('I', os.urandom(4)))\n",
    "print(struct.unpack('I', os.urandom(4))[0] % 100)\n",
    "# Output (1015967885,)\n",
    "\n",
    "# random short number using os.urandom()\n",
    "print(struct.unpack('h', os.urandom(2)))\n",
    "# Output (-28882,)\n",
    "\n",
    "# unsigned random short using os.urandom()\n",
    "print(struct.unpack('H', os.urandom(2)))\n",
    "# Output (29492,)\n",
    "\n",
    "# Print random float using os.urandom()\n",
    "print(struct.unpack('f', os.urandom(4)))\n",
    "# Output (-4.651611836498911e+20,)\n",
    "\n",
    "# un-singed random decimal using os.urandom()\n",
    "print(struct.unpack('d', os.urandom(8)))\n",
    "# Output (-1.7024488468332834e-120,)\n",
    "\n",
    "# random char using os.urandom()\n",
    "print(struct.unpack('c', os.urandom(1)))\n",
    "# Output (b'\\xce',)"
   ]
  },
  {
   "cell_type": "markdown",
   "metadata": {},
   "source": [
    "### Problem \n",
    "Zaimplementuj szyfr strumieniowy XOR-PRNG używając operatora bitowego XOR \"^\"."
   ]
  },
  {
   "cell_type": "code",
   "execution_count": 73,
   "metadata": {},
   "outputs": [
    {
     "name": "stdout",
     "output_type": "stream",
     "text": [
      "Tekst jawny:  [116, 104, 105, 115, 32, 105, 115, 32, 97, 32, 115, 101, 99, 114, 101, 116, 32, 109, 101, 115, 115, 97, 103, 101]\n",
      "Szyfrogram:  [915710583, 3770054143, 4157259847, 939008210, 38904389, 117573054, 4259218088, 2297431742, 3786750927, 3278184441, 309938299, 650740149, 3536232440, 2146166647, 3072645933, 342302288, 176541133, 442036221, 1953818893, 2689668893, 1285654441, 151967363, 3813468154, 216382447]\n",
      "Odszyfrowany:  [116, 104, 105, 115, 32, 105, 115, 32, 97, 32, 115, 101, 99, 114, 101, 116, 32, 109, 101, 115, 115, 97, 103, 101]\n"
     ]
    }
   ],
   "source": [
    "key = 'Key'\n",
    "message = 'this is a secret message'\n",
    "\n",
    "plaintext = intoIntArray(message)\n",
    "\n",
    "random.seed(key)\n",
    "ciphertext = [plainbit ^ random.getrandbits(32) for plainbit in plaintext]\n",
    "\n",
    "print(\"Tekst jawny: \", plaintext)\n",
    "print(\"Szyfrogram: \", ciphertext)\n",
    "\n",
    "random.seed(key)\n",
    "deciphered = [bit ^ random.getrandbits(32) for bit in ciphertext]\n",
    "\n",
    "print(\"Odszyfrowany: \", deciphered)\n"
   ]
  },
  {
   "cell_type": "markdown",
   "metadata": {},
   "source": [
    "### Zastanów się: \n",
    "1. Poszukaj informacji o szyfrach binarnie addytywnych \n",
    "2. Poszukaj informacji o szyfrach strumieniowych używanych w praktyce. Gdzie takie szyfry mogą być obecnie stosowane? "
   ]
  },
  {
   "cell_type": "markdown",
   "metadata": {},
   "source": [
    "### Problem \n",
    "Utwórz dwie różne wiadomości równej długości. Zaszyfruj je szyfrem XOR z użyciem tego samego klucza. Wyznacz alternatywę rozłączną szyfrogramów (XOR) i porównaj ją z tą samą operacją wykonaną dla tekstów jawnych. "
   ]
  },
  {
   "cell_type": "code",
   "execution_count": null,
   "metadata": {},
   "outputs": [],
   "source": [
    "message1 = 'secret'\n",
    "message2 = 'poufny'\n",
    "\n",
    "\n"
   ]
  },
  {
   "cell_type": "markdown",
   "metadata": {},
   "source": [
    "### Bezpieczeństwo szyfru XOR\n",
    "1. Jakie znaczenie ma powyższy wynik z punktu widzenia kryptoanalizy? \n",
    "2. Jeśli OTP to OK.\n",
    "3. Na czym polega atak ze znanym tekstem jawnym?"
   ]
  },
  {
   "cell_type": "code",
   "execution_count": null,
   "metadata": {},
   "outputs": [],
   "source": []
  },
  {
   "cell_type": "markdown",
   "metadata": {},
   "source": [
    "## Problem 3  (zadanie na aktywnosc)\n",
    "1. Utwórz dowolną wiadomość $M_1$. \n",
    "2. Zaszyfruj ją swoim szyfrem XOR z kluczem $K$. \n",
    "3. Wykonaj na szyfrogramie $C_1$ operację $C_2 = C_1 \\oplus (111\\ldots1)$. \n",
    "4. Odszyfruj wiadomość $C_2$ stosując ten sam klucz $K$. \n",
    "5. Porównaj wiadomości: $M_1$ i odszyfrowaną w poprzednim kroku $M_2$ (najlepiej binarnie). "
   ]
  },
  {
   "cell_type": "code",
   "execution_count": null,
   "metadata": {},
   "outputs": [],
   "source": [
    "\n",
    "\n",
    "\n"
   ]
  },
  {
   "cell_type": "markdown",
   "metadata": {},
   "source": [
    "# Szyfr strumieniowy RC4\n",
    "\n",
    "1. Odkryj sposób działania algorytmu RC4. Poszukaj informacji gdzie był używany RC4.\n",
    "\n",
    "A) Inicjalizacja generatora liczb pseudolosowych:\n",
    "    \n",
    "    a) zainicjuj tablicę S liczbami od 0 do 255\n",
    "    b) permutuj tablicę S 256 razy (i=0...255); od j=0:\n",
    "        i = i + 1\n",
    "        j = (j + S[i] + K[i mod KeyLength]) mod 256\n",
    "        swap(S[i], S[j])\n",
    "    \n",
    "\n",
    "B) Generowanie strumienia klucza (od i,j=0):\n",
    "\n",
    "    a) i = (i + 1) mod 256\n",
    "    b) j = (j + S[i]) mod 256\n",
    "    c) swap(S[i], S[j])\n",
    "    d) keyStreamByte = S[(S[i]+S[j]) mod 256]\n",
    "    c) cipherByte = plaintextByte^keyStreamByte"
   ]
  },
  {
   "cell_type": "code",
   "execution_count": 43,
   "metadata": {},
   "outputs": [
    {
     "data": {
      "text/plain": [
       "<Figure size 1080x648 with 0 Axes>"
      ]
     },
     "metadata": {},
     "output_type": "display_data"
    }
   ],
   "source": [
    "import codecs\n",
    "import matplotlib.pyplot as plt\n",
    "plt.figure(figsize=(15,9))\n",
    "\n",
    "MOD = 256\n",
    "#inicjalizacja generatora szyfru RC4\n",
    "\n",
    "def KSA(key):\n",
    "    key_length = len(key)\n",
    "    # inicjalizuj tablice permutacji S\n",
    "  \n",
    "\n",
    "    return S"
   ]
  },
  {
   "cell_type": "code",
   "execution_count": 42,
   "metadata": {},
   "outputs": [],
   "source": [
    "#generator liczb pseudolosowych RC4\n",
    "def PRGA(S):\n",
    "    #... \n",
    " \n",
    "        yield K"
   ]
  },
  {
   "cell_type": "code",
   "execution_count": 44,
   "metadata": {
    "scrolled": false
   },
   "outputs": [
    {
     "data": {
      "image/png": "[encoded data removed]",
      "text/plain": [
       "<Figure size 432x288 with 1 Axes>"
      ]
     },
     "metadata": {
      "needs_background": "light"
     },
     "output_type": "display_data"
    },
    {
     "data": {
      "text/plain": [
       "<Figure size 1080x1368 with 0 Axes>"
      ]
     },
     "metadata": {},
     "output_type": "display_data"
    },
    {
     "name": "stdout",
     "output_type": "stream",
     "text": [
      "Tekst jawny: Lorem ipsum dolor sit amet, consectetur adipiscing elit. Proin nibh augue, suscipit a, scelerisque sed, lacinia in, mi.\n",
      "Szyfrogram: 5D35E951F8AB6369A98A3FD2F35341B4B96AC00E048B805F1891C10D91C63851D607296EFBA4A8160CC3E2C0D4909273D5329756ADAEB6B59438B9AFFDF6E1F4A43715DD4EA1972165F09D9E1833BEE9FF9B2F680DBD7152835FC2F9361F9D4AC293D9929067191EDB06BA477010D8EB7F4C77E0083408\n",
      "Tekst odszyfrowany: Lorem ipsum dolor sit amet, consectetur adipiscing elit. Proin nibh augue, suscipit a, scelerisque sed, lacinia in, mi.\n"
     ]
    }
   ],
   "source": [
    "def get_keystream(key):\n",
    "    S = KSA(key)\n",
    "    return PRGA(S)\n",
    "\n",
    "\n",
    "def encrypt_logic(key, text, kstr):\n",
    "    key = [ord(c) for c in key]\n",
    "    keystream = get_keystream(key)\n",
    "    res = []\n",
    "    for c in text:\n",
    "        ks = next(keystream)\n",
    "        kstr.append(ks)\n",
    "        val = (\"%02X\" % (c ^ ks))  # XOR and taking hex\n",
    "        res.append(val)\n",
    "    return ''.join(res)\n",
    "\n",
    "\n",
    "def encrypt(key, plaintext):\n",
    "    kstream =[]\n",
    "    plaintext = [ord(c) for c in plaintext]\n",
    "    text = encrypt_logic(key, plaintext,kstream)\n",
    "    #print(\"\\n Key stream :\", kstream)\n",
    "    # matplotlib histogram\n",
    "    plt.hist(kstream, color = 'blue', edgecolor = 'black', bins = 256)\n",
    "    plt.title('Histogram of RC4 key stream')\n",
    "    plt.xlabel('Values')\n",
    "    plt.ylabel('Frequency')\n",
    "    plt.figure(figsize=(15,19))\n",
    "    plt.show()\n",
    "    return text\n",
    "\n",
    "def decrypt(key, ciphertext):\n",
    "    kstream =[]\n",
    "    ciphertext = codecs.decode(ciphertext, 'hex_codec')\n",
    "    res = encrypt_logic(key, ciphertext,kstream)\n",
    "    return codecs.decode(res, 'hex_codec').decode('utf-8')\n",
    "\n",
    "\n",
    "def main():\n",
    "\n",
    "    key = 'klucz-szyfrowy'  # plaintext\n",
    "    plaintext = 'Lorem ipsum dolor sit amet, consectetur adipiscing elit. Proin nibh augue, suscipit a, scelerisque sed, lacinia in, mi.'  # plaintext\n",
    "    ciphertext = encrypt(key, plaintext)\n",
    "    print('Tekst jawny:', plaintext)\n",
    "    print('Szyfrogram:', ciphertext)\n",
    "    decrypted = decrypt(key, ciphertext)\n",
    "    print('Tekst odszyfrowany:', decrypted)\n",
    "    \n",
    "main()\n"
   ]
  },
  {
   "cell_type": "markdown",
   "metadata": {},
   "source": [
    "## Jak sprawdzać losowość ciągu? Testy losowaości.  \n",
    "\n",
    "1. Poszukaj informacji o kryptograficznych generatorach liczb pseudolosowych. Jaki jest najważniejsza własność generatora z punktu widzenia kryptografii? \n",
    "2. Przykładowy test losowości monobit (https://csrc.nist.gov/publications/detail/sp/800-22/rev-1a/final). Przeanalizuj kod. "
   ]
  },
  {
   "cell_type": "code",
   "execution_count": null,
   "metadata": {},
   "outputs": [],
   "source": [
    "mport numpy\n",
    "import math\n",
    "from scipy import special as spc\n",
    "\n",
    "def monobit(bin_data: str):\n",
    "    \"\"\"\n",
    "    Note that this description is taken from the NIST documentation [1]\n",
    "    [1] http://csrc.nist.gov/publications/nistpubs/800-22-rev1a/SP800-22rev1a.pdf\n",
    "  \n",
    "    The focus of this test is the proportion of zeros and ones for the entire sequence. The purpose of this test is\n",
    "    to determine whether the number of ones and zeros in a sequence are approximately the same as would be expected\n",
    "    for a truly random sequence. This test assesses the closeness of the fraction of ones to 1/2, that is the number\n",
    "    of ones and zeros ina  sequence should be about the same. All subsequent tests depend on this test.\n",
    "  \n",
    "    :param bin_data: a binary string\n",
    "    :return: the p-value from the test\n",
    "    \"\"\"\n",
    "    count = 0\n",
    "    # If the char is 0 minus 1, else add 1\n",
    "    for char in bin_data:\n",
    "        if char == '0':\n",
    "            count -= 1\n",
    "        else:\n",
    "            count += 1\n",
    "    # Calculate the p value\n",
    "    sobs = count / math.sqrt(len(bin_data))\n",
    "    p_val = spc.erfc(math.fabs(sobs) / math.sqrt(2))\n",
    "    return p_val\n",
    "\n",
    "\n",
    "#Generowanie n-bitowego ciągu \n",
    "n=3\n",
    "#arr = numpy.random.randint(2, size=(n,))\n",
    "bitString = []\n",
    "for i in range(0, 1024):\n",
    "    x = str(numpy.random.randint(0, 2))\n",
    "    bitString.append(x)\n",
    "arr = ''.join(bitString)\n",
    "print(arr)\n",
    "print(monobit(arr))"
   ]
  },
  {
   "cell_type": "markdown",
   "metadata": {},
   "source": [
    "Poniższy test nazywa się runs i opiera się na zliczaniu serii nieprzerwanych ciągów 0 albo 1 w ciągu wejściowym. Ocenia czy ich ilość jest taka jak przewidywana dla danych losowych.\n",
    "\n",
    "W samym teście najpierw wyliczamy wartość pi, czyli stosunek liczby jedynek do długości ciągu wejściowego. Następnie sprawdzamy czy ten stosunek mieści się w rozsądnym przedziale, co sprawdzamy za pomocą wyliczenia wartości tau, które wynosi 2/sqrt(n) gdzie n to długość ciągu wejściowego. Im dłuższy ciąg, tym bardziej pi powinno zbliżać się do 1/2. Jeżeli okaże się, że wartość ta za bardzo odstaje od przewidywanej, nie trzeba stosować testu runs aby stwierdzić, że dane wejściowe nie wyglądają losowo.\n",
    "\n",
    "Następnie zliczamy faktyczną liczbę nieprzerwanych ciągów tych samych wartości. Wyliczamy p_value stosując korzystając z funkcji zaproponowanej przez autorów testu. Na końcu sprawdzamy, czy p_value jest większe niż 1%. Jeżeli jest, test zostaje zakończony pomyślnie."
   ]
  },
  {
   "cell_type": "code",
   "execution_count": null,
   "metadata": {},
   "outputs": [],
   "source": [
    "import numpy\n",
    "import math\n",
    "from scipy import special as spc\n",
    "\n",
    "def count_ones(bin_data: str):\n",
    "    count=0\n",
    "    for l in bin_data:\n",
    "        if l=='1':\n",
    "            count+=1\n",
    "    return count\n",
    "\n",
    "def runs(bin_data: str):\n",
    "    \"\"\"\n",
    "    Note that this description is taken from the NIST documentation [1]\n",
    "    [1] http://csrc.nist.gov/publications/nistpubs/800-22-rev1a/SP800-22rev1a.pdf\n",
    "  \n",
    "    The focus of this test is the total number of runs in the sequence,\n",
    "    where a run is an uninterrupted sequence of identical bits.  \n",
    "    A run of length k consists of exactly k identical bits and is bounded\n",
    "    before and after with a bit of the opposite value. \n",
    "    The purpose of the runs test is to determine whether the number of runs of\n",
    "    ones and zeros of various lengths is as expected for a random sequence. \n",
    "    In particular, this test determines whether the oscillation between such\n",
    "    zeros and ones is too fast or too slow. \n",
    "\n",
    "\n",
    "    :param bin_data: a binary string\n",
    "    :return: the p-value from the test\n",
    "    \"\"\"\n",
    "    n = len(bin_data)\n",
    "    pi = count_ones(bin_data)/n\n",
    "    tau = 2/math.sqrt(n)\n",
    "    \n",
    "    if abs(pi - 1/2) >= tau:\n",
    "        print(\"Test Monobit nie powinien zostać zaliczony.\")\n",
    "        return 0\n",
    "    \n",
    "    count = 1\n",
    "    # If the char at next index is different, there is a new run\n",
    "    for i in range(n-1):\n",
    "        if bin_data[i] != bin_data[i+1]:\n",
    "            count+=1\n",
    "            \n",
    "    # Calculate the p value\n",
    "    p_val = spc.erfc((abs(count-2*n*pi*(1-pi)))/(2*math.sqrt(2*n)*pi*(1-pi)))\n",
    "    return p_val\n",
    "\n",
    "\n",
    "# Generowanie n-bitowego ciągu \n",
    "n=3\n",
    "arr = numpy.random.randint(2, size=(n,))\n",
    "bitString = []\n",
    "for i in range(0, 1024):\n",
    "    x = str(numpy.random.randint(0, 2))\n",
    "    bitString.append(x)\n",
    "arr = ''.join(bitString)\n",
    "# arr = '1001101011' - taki przykład podano w opisie testu, wynik wynosi zgodnie z opisem 0.147232\n",
    "print(arr)\n",
    "res = runs(arr)\n",
    "if res > 0.01:\n",
    "    print(\"Test zakończony pomyślnie:\")\n",
    "else:\n",
    "    print(\"Test niezaliczony:\")\n",
    "print(res)"
   ]
  }
 ],
 "metadata": {
  "kernelspec": {
   "display_name": "Python 3 (ipykernel)",
   "language": "python",
   "name": "python3"
  },
  "language_info": {
   "codemirror_mode": {
    "name": "ipython",
    "version": 3
   },
   "file_extension": ".py",
   "mimetype": "text/x-python",
   "name": "python",
   "nbconvert_exporter": "python",
   "pygments_lexer": "ipython3",
   "version": "3.9.6"
  }
 },
 "nbformat": 4,
 "nbformat_minor": 1
}
